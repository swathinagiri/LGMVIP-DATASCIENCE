{
 "cells": [
  {
   "cell_type": "code",
   "execution_count": 1,
   "id": "b970e65f",
   "metadata": {},
   "outputs": [],
   "source": [
    "import pandas as pd\n",
    "import matplotlib.pyplot as plt\n",
    "import numpy as np"
   ]
  },
  {
   "cell_type": "code",
   "execution_count": 2,
   "id": "b80df36a",
   "metadata": {},
   "outputs": [],
   "source": [
    "data=pd.read_csv(\"D:/csvfiles/StockMarket.csv\",index_col='Date',parse_dates=True)\n"
   ]
  },
  {
   "cell_type": "code",
   "execution_count": 3,
   "id": "b749bf13",
   "metadata": {},
   "outputs": [
    {
     "data": {
      "text/html": [
       "<div>\n",
       "<style scoped>\n",
       "    .dataframe tbody tr th:only-of-type {\n",
       "        vertical-align: middle;\n",
       "    }\n",
       "\n",
       "    .dataframe tbody tr th {\n",
       "        vertical-align: top;\n",
       "    }\n",
       "\n",
       "    .dataframe thead th {\n",
       "        text-align: right;\n",
       "    }\n",
       "</style>\n",
       "<table border=\"1\" class=\"dataframe\">\n",
       "  <thead>\n",
       "    <tr style=\"text-align: right;\">\n",
       "      <th></th>\n",
       "      <th>Open</th>\n",
       "      <th>High</th>\n",
       "      <th>Low</th>\n",
       "      <th>Last</th>\n",
       "      <th>Close</th>\n",
       "      <th>Total Trade Quantity</th>\n",
       "      <th>Turnover (Lacs)</th>\n",
       "    </tr>\n",
       "    <tr>\n",
       "      <th>Date</th>\n",
       "      <th></th>\n",
       "      <th></th>\n",
       "      <th></th>\n",
       "      <th></th>\n",
       "      <th></th>\n",
       "      <th></th>\n",
       "      <th></th>\n",
       "    </tr>\n",
       "  </thead>\n",
       "  <tbody>\n",
       "    <tr>\n",
       "      <th>2018-09-28</th>\n",
       "      <td>234.05</td>\n",
       "      <td>235.95</td>\n",
       "      <td>230.20</td>\n",
       "      <td>233.50</td>\n",
       "      <td>233.75</td>\n",
       "      <td>3069914</td>\n",
       "      <td>7162.35</td>\n",
       "    </tr>\n",
       "    <tr>\n",
       "      <th>2018-09-27</th>\n",
       "      <td>234.55</td>\n",
       "      <td>236.80</td>\n",
       "      <td>231.10</td>\n",
       "      <td>233.80</td>\n",
       "      <td>233.25</td>\n",
       "      <td>5082859</td>\n",
       "      <td>11859.95</td>\n",
       "    </tr>\n",
       "    <tr>\n",
       "      <th>2018-09-26</th>\n",
       "      <td>240.00</td>\n",
       "      <td>240.00</td>\n",
       "      <td>232.50</td>\n",
       "      <td>235.00</td>\n",
       "      <td>234.25</td>\n",
       "      <td>2240909</td>\n",
       "      <td>5248.60</td>\n",
       "    </tr>\n",
       "    <tr>\n",
       "      <th>2018-09-25</th>\n",
       "      <td>233.30</td>\n",
       "      <td>236.75</td>\n",
       "      <td>232.00</td>\n",
       "      <td>236.25</td>\n",
       "      <td>236.10</td>\n",
       "      <td>2349368</td>\n",
       "      <td>5503.90</td>\n",
       "    </tr>\n",
       "    <tr>\n",
       "      <th>2018-09-24</th>\n",
       "      <td>233.55</td>\n",
       "      <td>239.20</td>\n",
       "      <td>230.75</td>\n",
       "      <td>234.00</td>\n",
       "      <td>233.30</td>\n",
       "      <td>3423509</td>\n",
       "      <td>7999.55</td>\n",
       "    </tr>\n",
       "  </tbody>\n",
       "</table>\n",
       "</div>"
      ],
      "text/plain": [
       "              Open    High     Low    Last   Close  Total Trade Quantity  \\\n",
       "Date                                                                       \n",
       "2018-09-28  234.05  235.95  230.20  233.50  233.75               3069914   \n",
       "2018-09-27  234.55  236.80  231.10  233.80  233.25               5082859   \n",
       "2018-09-26  240.00  240.00  232.50  235.00  234.25               2240909   \n",
       "2018-09-25  233.30  236.75  232.00  236.25  236.10               2349368   \n",
       "2018-09-24  233.55  239.20  230.75  234.00  233.30               3423509   \n",
       "\n",
       "            Turnover (Lacs)  \n",
       "Date                         \n",
       "2018-09-28          7162.35  \n",
       "2018-09-27         11859.95  \n",
       "2018-09-26          5248.60  \n",
       "2018-09-25          5503.90  \n",
       "2018-09-24          7999.55  "
      ]
     },
     "execution_count": 3,
     "metadata": {},
     "output_type": "execute_result"
    }
   ],
   "source": [
    "data.head(5)"
   ]
  },
  {
   "cell_type": "code",
   "execution_count": 4,
   "id": "c5f051c8",
   "metadata": {},
   "outputs": [],
   "source": [
    "from tensorflow.keras.models import Sequential\n",
    "from tensorflow.keras.optimizers import Adam\n",
    "from tensorflow.keras import layers"
   ]
  },
  {
   "cell_type": "code",
   "execution_count": 5,
   "id": "3ebac579",
   "metadata": {
    "scrolled": true
   },
   "outputs": [
    {
     "data": {
      "text/plain": [
       "Open                    0\n",
       "High                    0\n",
       "Low                     0\n",
       "Last                    0\n",
       "Close                   0\n",
       "Total Trade Quantity    0\n",
       "Turnover (Lacs)         0\n",
       "dtype: int64"
      ]
     },
     "execution_count": 5,
     "metadata": {},
     "output_type": "execute_result"
    }
   ],
   "source": [
    "data.isnull().sum()"
   ]
  },
  {
   "cell_type": "code",
   "execution_count": 6,
   "id": "79ae1292",
   "metadata": {},
   "outputs": [],
   "source": [
    "#no null values"
   ]
  },
  {
   "cell_type": "code",
   "execution_count": 7,
   "id": "8717347e",
   "metadata": {},
   "outputs": [
    {
     "data": {
      "text/plain": [
       "<AxesSubplot:xlabel='Date'>"
      ]
     },
     "execution_count": 7,
     "metadata": {},
     "output_type": "execute_result"
    },
    {
     "data": {
      "image/png": "[encoded data removed]",
      "text/plain": [
       "<Figure size 1200x600 with 1 Axes>"
      ]
     },
     "metadata": {},
     "output_type": "display_data"
    }
   ],
   "source": [
    "data.plot(figsize=(12,6))"
   ]
  },
  {
   "cell_type": "code",
   "execution_count": 8,
   "id": "4fbae544",
   "metadata": {},
   "outputs": [
    {
     "data": {
      "text/plain": [
       "2035"
      ]
     },
     "execution_count": 8,
     "metadata": {},
     "output_type": "execute_result"
    }
   ],
   "source": [
    "len(data)"
   ]
  },
  {
   "cell_type": "code",
   "execution_count": 9,
   "id": "7a0f7f7c",
   "metadata": {},
   "outputs": [],
   "source": [
    "train=data.iloc[:2023]\n",
    "test=data.iloc[2023:]"
   ]
  },
  {
   "cell_type": "code",
   "execution_count": 10,
   "id": "30d27956",
   "metadata": {},
   "outputs": [],
   "source": [
    "from sklearn.preprocessing import MinMaxScaler"
   ]
  },
  {
   "cell_type": "code",
   "execution_count": 11,
   "id": "7813f87a",
   "metadata": {},
   "outputs": [],
   "source": [
    "scaler=MinMaxScaler()"
   ]
  },
  {
   "cell_type": "code",
   "execution_count": 12,
   "id": "79aa19d8",
   "metadata": {},
   "outputs": [
    {
     "data": {
      "text/html": [
       "<div>\n",
       "<style scoped>\n",
       "    .dataframe tbody tr th:only-of-type {\n",
       "        vertical-align: middle;\n",
       "    }\n",
       "\n",
       "    .dataframe tbody tr th {\n",
       "        vertical-align: top;\n",
       "    }\n",
       "\n",
       "    .dataframe thead th {\n",
       "        text-align: right;\n",
       "    }\n",
       "</style>\n",
       "<table border=\"1\" class=\"dataframe\">\n",
       "  <thead>\n",
       "    <tr style=\"text-align: right;\">\n",
       "      <th></th>\n",
       "      <th>Open</th>\n",
       "      <th>High</th>\n",
       "      <th>Low</th>\n",
       "      <th>Last</th>\n",
       "      <th>Close</th>\n",
       "      <th>Total Trade Quantity</th>\n",
       "      <th>Turnover (Lacs)</th>\n",
       "    </tr>\n",
       "    <tr>\n",
       "      <th>Date</th>\n",
       "      <th></th>\n",
       "      <th></th>\n",
       "      <th></th>\n",
       "      <th></th>\n",
       "      <th></th>\n",
       "      <th></th>\n",
       "      <th></th>\n",
       "    </tr>\n",
       "  </thead>\n",
       "  <tbody>\n",
       "    <tr>\n",
       "      <th>2018-09-28</th>\n",
       "      <td>234.05</td>\n",
       "      <td>235.95</td>\n",
       "      <td>230.20</td>\n",
       "      <td>233.50</td>\n",
       "      <td>233.75</td>\n",
       "      <td>3069914</td>\n",
       "      <td>7162.35</td>\n",
       "    </tr>\n",
       "    <tr>\n",
       "      <th>2018-09-27</th>\n",
       "      <td>234.55</td>\n",
       "      <td>236.80</td>\n",
       "      <td>231.10</td>\n",
       "      <td>233.80</td>\n",
       "      <td>233.25</td>\n",
       "      <td>5082859</td>\n",
       "      <td>11859.95</td>\n",
       "    </tr>\n",
       "    <tr>\n",
       "      <th>2018-09-26</th>\n",
       "      <td>240.00</td>\n",
       "      <td>240.00</td>\n",
       "      <td>232.50</td>\n",
       "      <td>235.00</td>\n",
       "      <td>234.25</td>\n",
       "      <td>2240909</td>\n",
       "      <td>5248.60</td>\n",
       "    </tr>\n",
       "    <tr>\n",
       "      <th>2018-09-25</th>\n",
       "      <td>233.30</td>\n",
       "      <td>236.75</td>\n",
       "      <td>232.00</td>\n",
       "      <td>236.25</td>\n",
       "      <td>236.10</td>\n",
       "      <td>2349368</td>\n",
       "      <td>5503.90</td>\n",
       "    </tr>\n",
       "    <tr>\n",
       "      <th>2018-09-24</th>\n",
       "      <td>233.55</td>\n",
       "      <td>239.20</td>\n",
       "      <td>230.75</td>\n",
       "      <td>234.00</td>\n",
       "      <td>233.30</td>\n",
       "      <td>3423509</td>\n",
       "      <td>7999.55</td>\n",
       "    </tr>\n",
       "  </tbody>\n",
       "</table>\n",
       "</div>"
      ],
      "text/plain": [
       "              Open    High     Low    Last   Close  Total Trade Quantity  \\\n",
       "Date                                                                       \n",
       "2018-09-28  234.05  235.95  230.20  233.50  233.75               3069914   \n",
       "2018-09-27  234.55  236.80  231.10  233.80  233.25               5082859   \n",
       "2018-09-26  240.00  240.00  232.50  235.00  234.25               2240909   \n",
       "2018-09-25  233.30  236.75  232.00  236.25  236.10               2349368   \n",
       "2018-09-24  233.55  239.20  230.75  234.00  233.30               3423509   \n",
       "\n",
       "            Turnover (Lacs)  \n",
       "Date                         \n",
       "2018-09-28          7162.35  \n",
       "2018-09-27         11859.95  \n",
       "2018-09-26          5248.60  \n",
       "2018-09-25          5503.90  \n",
       "2018-09-24          7999.55  "
      ]
     },
     "execution_count": 12,
     "metadata": {},
     "output_type": "execute_result"
    }
   ],
   "source": [
    "data.head(5)"
   ]
  },
  {
   "cell_type": "code",
   "execution_count": 13,
   "id": "1687fc9e",
   "metadata": {},
   "outputs": [
    {
     "data": {
      "text/plain": [
       "MinMaxScaler()"
      ]
     },
     "execution_count": 13,
     "metadata": {},
     "output_type": "execute_result"
    }
   ],
   "source": [
    "scaler.fit(train)"
   ]
  },
  {
   "cell_type": "code",
   "execution_count": 14,
   "id": "586ac555",
   "metadata": {},
   "outputs": [],
   "source": [
    "train_scaled=scaler.transform(train)\n",
    "test_scaler=scaler.transform(test)"
   ]
  },
  {
   "cell_type": "code",
   "execution_count": 15,
   "id": "b2280883",
   "metadata": {},
   "outputs": [
    {
     "data": {
      "text/plain": [
       "array([[0.6202352 , 0.62268754, 0.62156011, 0.62257604, 0.62418301,\n",
       "        0.10395053, 0.12788156],\n",
       "       [0.62226277, 0.62614353, 0.6252845 , 0.62380078, 0.62214052,\n",
       "        0.17300192, 0.21219178],\n",
       "       [0.64436334, 0.6391543 , 0.63107801, 0.62869973, 0.62622549,\n",
       "        0.07551262, 0.09353452],\n",
       "       [0.61719384, 0.62594023, 0.6290089 , 0.63380282, 0.63378268,\n",
       "        0.07923316, 0.09811652],\n",
       "       [0.61820762, 0.63590161, 0.62383613, 0.62461727, 0.62234477,\n",
       "        0.11608013, 0.14290722],\n",
       "       [0.62408759, 0.6269567 , 0.61224912, 0.62359665, 0.62765523,\n",
       "        0.18372044, 0.225287  ],\n",
       "       [0.62793998, 0.62776987, 0.63500931, 0.62706675, 0.62888072,\n",
       "        0.04536481, 0.05681715],\n",
       "       [0.63584753, 0.6361049 , 0.63521622, 0.63074097, 0.62949346,\n",
       "        0.08833825, 0.10995828],\n",
       "       [0.61658556, 0.63102257, 0.62176702, 0.63441519, 0.63582516,\n",
       "        0.10741451, 0.13296178],\n",
       "       [0.57725061, 0.62573694, 0.59300641, 0.62461727, 0.625     ,\n",
       "        0.21742688, 0.26468016]])"
      ]
     },
     "execution_count": 15,
     "metadata": {},
     "output_type": "execute_result"
    }
   ],
   "source": [
    "train_scaled[:10]"
   ]
  },
  {
   "cell_type": "code",
   "execution_count": 16,
   "id": "3de5fbc3",
   "metadata": {},
   "outputs": [
    {
     "data": {
      "text/html": [
       "<div>\n",
       "<style scoped>\n",
       "    .dataframe tbody tr th:only-of-type {\n",
       "        vertical-align: middle;\n",
       "    }\n",
       "\n",
       "    .dataframe tbody tr th {\n",
       "        vertical-align: top;\n",
       "    }\n",
       "\n",
       "    .dataframe thead th {\n",
       "        text-align: right;\n",
       "    }\n",
       "</style>\n",
       "<table border=\"1\" class=\"dataframe\">\n",
       "  <thead>\n",
       "    <tr style=\"text-align: right;\">\n",
       "      <th></th>\n",
       "      <th>Open</th>\n",
       "      <th>High</th>\n",
       "      <th>Low</th>\n",
       "      <th>Last</th>\n",
       "      <th>Close</th>\n",
       "      <th>Total Trade Quantity</th>\n",
       "      <th>Turnover (Lacs)</th>\n",
       "    </tr>\n",
       "    <tr>\n",
       "      <th>Date</th>\n",
       "      <th></th>\n",
       "      <th></th>\n",
       "      <th></th>\n",
       "      <th></th>\n",
       "      <th></th>\n",
       "      <th></th>\n",
       "      <th></th>\n",
       "    </tr>\n",
       "  </thead>\n",
       "  <tbody>\n",
       "    <tr>\n",
       "      <th>2018-09-28</th>\n",
       "      <td>234.05</td>\n",
       "      <td>235.95</td>\n",
       "      <td>230.20</td>\n",
       "      <td>233.50</td>\n",
       "      <td>233.75</td>\n",
       "      <td>3069914</td>\n",
       "      <td>7162.35</td>\n",
       "    </tr>\n",
       "    <tr>\n",
       "      <th>2018-09-27</th>\n",
       "      <td>234.55</td>\n",
       "      <td>236.80</td>\n",
       "      <td>231.10</td>\n",
       "      <td>233.80</td>\n",
       "      <td>233.25</td>\n",
       "      <td>5082859</td>\n",
       "      <td>11859.95</td>\n",
       "    </tr>\n",
       "    <tr>\n",
       "      <th>2018-09-26</th>\n",
       "      <td>240.00</td>\n",
       "      <td>240.00</td>\n",
       "      <td>232.50</td>\n",
       "      <td>235.00</td>\n",
       "      <td>234.25</td>\n",
       "      <td>2240909</td>\n",
       "      <td>5248.60</td>\n",
       "    </tr>\n",
       "    <tr>\n",
       "      <th>2018-09-25</th>\n",
       "      <td>233.30</td>\n",
       "      <td>236.75</td>\n",
       "      <td>232.00</td>\n",
       "      <td>236.25</td>\n",
       "      <td>236.10</td>\n",
       "      <td>2349368</td>\n",
       "      <td>5503.90</td>\n",
       "    </tr>\n",
       "    <tr>\n",
       "      <th>2018-09-24</th>\n",
       "      <td>233.55</td>\n",
       "      <td>239.20</td>\n",
       "      <td>230.75</td>\n",
       "      <td>234.00</td>\n",
       "      <td>233.30</td>\n",
       "      <td>3423509</td>\n",
       "      <td>7999.55</td>\n",
       "    </tr>\n",
       "  </tbody>\n",
       "</table>\n",
       "</div>"
      ],
      "text/plain": [
       "              Open    High     Low    Last   Close  Total Trade Quantity  \\\n",
       "Date                                                                       \n",
       "2018-09-28  234.05  235.95  230.20  233.50  233.75               3069914   \n",
       "2018-09-27  234.55  236.80  231.10  233.80  233.25               5082859   \n",
       "2018-09-26  240.00  240.00  232.50  235.00  234.25               2240909   \n",
       "2018-09-25  233.30  236.75  232.00  236.25  236.10               2349368   \n",
       "2018-09-24  233.55  239.20  230.75  234.00  233.30               3423509   \n",
       "\n",
       "            Turnover (Lacs)  \n",
       "Date                         \n",
       "2018-09-28          7162.35  \n",
       "2018-09-27         11859.95  \n",
       "2018-09-26          5248.60  \n",
       "2018-09-25          5503.90  \n",
       "2018-09-24          7999.55  "
      ]
     },
     "execution_count": 16,
     "metadata": {},
     "output_type": "execute_result"
    }
   ],
   "source": [
    "train.head(5)"
   ]
  },
  {
   "cell_type": "code",
   "execution_count": 17,
   "id": "b7ced8b1",
   "metadata": {},
   "outputs": [],
   "source": [
    "n_input=12\n",
    "from keras.preprocessing.sequence import TimeseriesGenerator"
   ]
  },
  {
   "cell_type": "code",
   "execution_count": 18,
   "id": "5eccba69",
   "metadata": {},
   "outputs": [],
   "source": [
    "generator=TimeseriesGenerator(train_scaled,train_scaled,length=n_input,batch_size=1)"
   ]
  },
  {
   "cell_type": "code",
   "execution_count": 19,
   "id": "756cda01",
   "metadata": {},
   "outputs": [],
   "source": [
    "model=Sequential()  ##model"
   ]
  },
  {
   "cell_type": "code",
   "execution_count": 20,
   "id": "4818d585",
   "metadata": {},
   "outputs": [],
   "source": [
    "from keras.layers import LSTM,Dense"
   ]
  },
  {
   "cell_type": "code",
   "execution_count": 21,
   "id": "f588088e",
   "metadata": {
    "scrolled": true
   },
   "outputs": [],
   "source": [
    "model.add(LSTM(100,activation='relu',input_shape=(n_input,7)))"
   ]
  },
  {
   "cell_type": "code",
   "execution_count": 22,
   "id": "20514740",
   "metadata": {},
   "outputs": [],
   "source": [
    "model.add(Dense(1))"
   ]
  },
  {
   "cell_type": "code",
   "execution_count": 23,
   "id": "84cc0a47",
   "metadata": {},
   "outputs": [],
   "source": [
    "model.compile(optimizer='adam',loss='mse')"
   ]
  },
  {
   "cell_type": "code",
   "execution_count": 24,
   "id": "38ae68e5",
   "metadata": {},
   "outputs": [
    {
     "name": "stdout",
     "output_type": "stream",
     "text": [
      "Model: \"sequential\"\n",
      "_________________________________________________________________\n",
      " Layer (type)                Output Shape              Param #   \n",
      "=================================================================\n",
      " lstm (LSTM)                 (None, 100)               43200     \n",
      "                                                                 \n",
      " dense (Dense)               (None, 1)                 101       \n",
      "                                                                 \n",
      "=================================================================\n",
      "Total params: 43,301\n",
      "Trainable params: 43,301\n",
      "Non-trainable params: 0\n",
      "_________________________________________________________________\n"
     ]
    }
   ],
   "source": [
    "model.summary()"
   ]
  },
  {
   "cell_type": "code",
   "execution_count": 25,
   "id": "3012d954",
   "metadata": {},
   "outputs": [
    {
     "name": "stdout",
     "output_type": "stream",
     "text": [
      "Epoch 1/50\n",
      "2011/2011 [==============================] - 15s 6ms/step - loss: 0.0154\n",
      "Epoch 2/50\n",
      "2011/2011 [==============================] - 12s 6ms/step - loss: 0.0151\n",
      "Epoch 3/50\n",
      "2011/2011 [==============================] - 12s 6ms/step - loss: 0.0151\n",
      "Epoch 4/50\n",
      "2011/2011 [==============================] - 11s 5ms/step - loss: 0.0151\n",
      "Epoch 5/50\n",
      "2011/2011 [==============================] - 11s 5ms/step - loss: 0.0150\n",
      "Epoch 6/50\n",
      "2011/2011 [==============================] - 13s 6ms/step - loss: 0.0150\n",
      "Epoch 7/50\n",
      "2011/2011 [==============================] - 10s 5ms/step - loss: 0.0150\n",
      "Epoch 8/50\n",
      "2011/2011 [==============================] - 11s 5ms/step - loss: 0.0150\n",
      "Epoch 9/50\n",
      "2011/2011 [==============================] - 13s 7ms/step - loss: 0.0149\n",
      "Epoch 10/50\n",
      "2011/2011 [==============================] - 12s 6ms/step - loss: 0.0149\n",
      "Epoch 11/50\n",
      "2011/2011 [==============================] - 12s 6ms/step - loss: 0.0149\n",
      "Epoch 12/50\n",
      "2011/2011 [==============================] - 12s 6ms/step - loss: 0.0149\n",
      "Epoch 13/50\n",
      "2011/2011 [==============================] - 11s 6ms/step - loss: 0.0149\n",
      "Epoch 14/50\n",
      "2011/2011 [==============================] - 12s 6ms/step - loss: 0.0149\n",
      "Epoch 15/50\n",
      "2011/2011 [==============================] - 14s 7ms/step - loss: 0.0149\n",
      "Epoch 16/50\n",
      "2011/2011 [==============================] - 13s 7ms/step - loss: 0.0149\n",
      "Epoch 17/50\n",
      "2011/2011 [==============================] - 13s 6ms/step - loss: 0.0149\n",
      "Epoch 18/50\n",
      "2011/2011 [==============================] - 11s 6ms/step - loss: 0.0149\n",
      "Epoch 19/50\n",
      "2011/2011 [==============================] - 12s 6ms/step - loss: 0.0149\n",
      "Epoch 20/50\n",
      "2011/2011 [==============================] - 11s 5ms/step - loss: 0.0149\n",
      "Epoch 21/50\n",
      "2011/2011 [==============================] - 11s 6ms/step - loss: 0.0149\n",
      "Epoch 22/50\n",
      "2011/2011 [==============================] - 11s 5ms/step - loss: 0.0149\n",
      "Epoch 23/50\n",
      "2011/2011 [==============================] - 12s 6ms/step - loss: 0.0149\n",
      "Epoch 24/50\n",
      "2011/2011 [==============================] - 13s 6ms/step - loss: 0.0149\n",
      "Epoch 25/50\n",
      "2011/2011 [==============================] - 11s 5ms/step - loss: 0.0149\n",
      "Epoch 26/50\n",
      "2011/2011 [==============================] - 11s 5ms/step - loss: 0.0149\n",
      "Epoch 27/50\n",
      "2011/2011 [==============================] - 11s 5ms/step - loss: 0.0149\n",
      "Epoch 28/50\n",
      "2011/2011 [==============================] - 11s 5ms/step - loss: 0.0149\n",
      "Epoch 29/50\n",
      "2011/2011 [==============================] - 11s 5ms/step - loss: 0.0149\n",
      "Epoch 30/50\n",
      "2011/2011 [==============================] - 10s 5ms/step - loss: 0.0149\n",
      "Epoch 31/50\n",
      "2011/2011 [==============================] - 6s 3ms/step - loss: 0.0149\n",
      "Epoch 32/50\n",
      "2011/2011 [==============================] - 7s 3ms/step - loss: 0.0149\n",
      "Epoch 33/50\n",
      "2011/2011 [==============================] - 7s 3ms/step - loss: 0.0149\n",
      "Epoch 34/50\n",
      "2011/2011 [==============================] - 7s 3ms/step - loss: 0.0149\n",
      "Epoch 35/50\n",
      "2011/2011 [==============================] - 7s 3ms/step - loss: 0.0149\n",
      "Epoch 36/50\n",
      "2011/2011 [==============================] - 7s 3ms/step - loss: 0.0149\n",
      "Epoch 37/50\n",
      "2011/2011 [==============================] - 7s 3ms/step - loss: 0.0149\n",
      "Epoch 38/50\n",
      "2011/2011 [==============================] - 6s 3ms/step - loss: 0.0149\n",
      "Epoch 39/50\n",
      "2011/2011 [==============================] - 7s 3ms/step - loss: 0.0149\n",
      "Epoch 40/50\n",
      "2011/2011 [==============================] - 7s 3ms/step - loss: 0.0149\n",
      "Epoch 41/50\n",
      "2011/2011 [==============================] - 7s 3ms/step - loss: 0.0149\n",
      "Epoch 42/50\n",
      "2011/2011 [==============================] - 6s 3ms/step - loss: 0.0149\n",
      "Epoch 43/50\n",
      "2011/2011 [==============================] - 7s 3ms/step - loss: 0.0149\n",
      "Epoch 44/50\n",
      "2011/2011 [==============================] - 7s 4ms/step - loss: 0.0149\n",
      "Epoch 45/50\n",
      "2011/2011 [==============================] - 6s 3ms/step - loss: 0.0149\n",
      "Epoch 46/50\n",
      "2011/2011 [==============================] - 7s 3ms/step - loss: 0.0149\n",
      "Epoch 47/50\n",
      "2011/2011 [==============================] - 7s 3ms/step - loss: 0.0149\n",
      "Epoch 48/50\n",
      "2011/2011 [==============================] - 7s 4ms/step - loss: 0.0149\n",
      "Epoch 49/50\n",
      "2011/2011 [==============================] - 7s 4ms/step - loss: 0.0149\n",
      "Epoch 50/50\n",
      "2011/2011 [==============================] - 7s 3ms/step - loss: 0.0149\n"
     ]
    },
    {
     "data": {
      "text/plain": [
       "<keras.callbacks.History at 0x1a2110de130>"
      ]
     },
     "execution_count": 25,
     "metadata": {},
     "output_type": "execute_result"
    }
   ],
   "source": [
    "model.fit(generator,epochs=50)"
   ]
  },
  {
   "cell_type": "code",
   "execution_count": 26,
   "id": "98f7df01",
   "metadata": {},
   "outputs": [],
   "source": [
    "loss=model.history.history['loss']"
   ]
  },
  {
   "cell_type": "code",
   "execution_count": 27,
   "id": "06ca4091",
   "metadata": {},
   "outputs": [
    {
     "data": {
      "text/plain": [
       "[<matplotlib.lines.Line2D at 0x1a214585790>]"
      ]
     },
     "execution_count": 27,
     "metadata": {},
     "output_type": "execute_result"
    },
    {
     "data": {
      "image/png": "[encoded data removed]",
      "text/plain": [
       "<Figure size 640x480 with 1 Axes>"
      ]
     },
     "metadata": {},
     "output_type": "display_data"
    }
   ],
   "source": [
    "plt.plot(range(len(loss)),loss)"
   ]
  },
  {
   "cell_type": "code",
   "execution_count": 28,
   "id": "948af6a0",
   "metadata": {},
   "outputs": [],
   "source": [
    "last_train_batch=train_scaled[-12:]"
   ]
  },
  {
   "cell_type": "code",
   "execution_count": 29,
   "id": "9a8420c9",
   "metadata": {},
   "outputs": [],
   "source": [
    "last_train_batch=last_train_batch.reshape((1,12,7))"
   ]
  },
  {
   "cell_type": "code",
   "execution_count": 30,
   "id": "40fc6326",
   "metadata": {},
   "outputs": [
    {
     "name": "stdout",
     "output_type": "stream",
     "text": [
      "1/1 [==============================] - 0s 133ms/step\n"
     ]
    },
    {
     "data": {
      "text/plain": [
       "array([[0.09699924]], dtype=float32)"
      ]
     },
     "execution_count": 30,
     "metadata": {},
     "output_type": "execute_result"
    }
   ],
   "source": [
    "model.predict(last_train_batch)"
   ]
  },
  {
   "cell_type": "code",
   "execution_count": 31,
   "id": "93e82b3e",
   "metadata": {},
   "outputs": [
    {
     "data": {
      "text/plain": [
       "array([0.14557989, 0.13905265, 0.13987172, 0.13512962, 0.13521242,\n",
       "       0.02531199, 0.0153733 ])"
      ]
     },
     "execution_count": 31,
     "metadata": {},
     "output_type": "execute_result"
    }
   ],
   "source": [
    "test_scaler[0]"
   ]
  },
  {
   "cell_type": "code",
   "execution_count": 32,
   "id": "170a2fd5",
   "metadata": {},
   "outputs": [],
   "source": [
    "test_prediction=[]\n",
    "first_eval_batch=train_scaled[-12:]\n",
    "current_batch=first_eval_batch.reshape((1,n_input,7))\n"
   ]
  },
  {
   "cell_type": "code",
   "execution_count": 33,
   "id": "8e5b97ca",
   "metadata": {},
   "outputs": [
    {
     "name": "stdout",
     "output_type": "stream",
     "text": [
      "1/1 [==============================] - 0s 21ms/step\n",
      "1/1 [==============================] - 0s 13ms/step\n",
      "1/1 [==============================] - 0s 16ms/step\n",
      "1/1 [==============================] - 0s 18ms/step\n",
      "1/1 [==============================] - 0s 16ms/step\n",
      "1/1 [==============================] - 0s 30ms/step\n",
      "1/1 [==============================] - 0s 16ms/step\n",
      "1/1 [==============================] - 0s 22ms/step\n",
      "1/1 [==============================] - 0s 20ms/step\n",
      "1/1 [==============================] - 0s 20ms/step\n",
      "1/1 [==============================] - 0s 21ms/step\n",
      "1/1 [==============================] - 0s 23ms/step\n"
     ]
    }
   ],
   "source": [
    "for i in range(len(test)):\n",
    "    current_pred=model.predict(current_batch)\n",
    "    test_prediction.append(current_pred)"
   ]
  },
  {
   "cell_type": "code",
   "execution_count": 34,
   "id": "96941e7f",
   "metadata": {},
   "outputs": [
    {
     "name": "stdout",
     "output_type": "stream",
     "text": [
      "[[[0.13341444 0.14413499 0.13242293 0.14553991 0.14603758 0.13701933\n",
      "   0.083651  ]\n",
      "  [0.12530414 0.12441553 0.12849162 0.12390284 0.12479575 0.02105134\n",
      "   0.01248447]\n",
      "  [0.11719384 0.12827811 0.11793917 0.13206777 0.13112745 0.05503021\n",
      "   0.03247261]\n",
      "  [0.11780211 0.11547062 0.11628388 0.11226781 0.11397059 0.03157042\n",
      "   0.01822013]\n",
      "  [0.12489862 0.12034966 0.12290503 0.119208   0.1190768  0.03567132\n",
      "   0.02081067]\n",
      "  [0.14132198 0.13478349 0.12725016 0.12655644 0.12377451 0.02673014\n",
      "   0.01583832]\n",
      "  [0.13098135 0.13498679 0.13490586 0.13512962 0.13562092 0.02456365\n",
      "   0.0149264 ]\n",
      "  [0.12935929 0.12868469 0.13345748 0.12982241 0.12908497 0.01353811\n",
      "   0.00816863]\n",
      "  [0.13240065 0.13295385 0.13242293 0.13431313 0.13459967 0.04350926\n",
      "   0.02625038]\n",
      "  [0.12895377 0.12807481 0.13056073 0.12676056 0.12806373 0.00987102\n",
      "   0.00595642]\n",
      "  [0.12530414 0.12624517 0.13242293 0.1314554  0.13031046 0.01287814\n",
      "   0.00774543]\n",
      "  [0.13381995 0.13051433 0.13138837 0.12737293 0.12724673 0.01743556\n",
      "   0.0104686 ]]]\n"
     ]
    }
   ],
   "source": [
    "print(current_batch)"
   ]
  },
  {
   "cell_type": "code",
   "execution_count": 35,
   "id": "8d6f831d",
   "metadata": {},
   "outputs": [
    {
     "name": "stdout",
     "output_type": "stream",
     "text": [
      "[array([[0.09699924]], dtype=float32), array([[0.09699924]], dtype=float32), array([[0.09699924]], dtype=float32), array([[0.09699924]], dtype=float32), array([[0.09699924]], dtype=float32), array([[0.09699924]], dtype=float32), array([[0.09699924]], dtype=float32), array([[0.09699924]], dtype=float32), array([[0.09699924]], dtype=float32), array([[0.09699924]], dtype=float32), array([[0.09699924]], dtype=float32), array([[0.09699924]], dtype=float32)]\n"
     ]
    }
   ],
   "source": [
    "print(test_prediction)"
   ]
  },
  {
   "cell_type": "code",
   "execution_count": 36,
   "id": "b71e2f46",
   "metadata": {},
   "outputs": [],
   "source": [
    "from sklearn.metrics import r2_score"
   ]
  },
  {
   "cell_type": "code",
   "execution_count": 37,
   "id": "4115e877",
   "metadata": {},
   "outputs": [],
   "source": [
    "list1=[]\n",
    "for i in range (12):\n",
    "    list1.append(current_batch[0][i][6])"
   ]
  },
  {
   "cell_type": "code",
   "execution_count": 38,
   "id": "fa391bac",
   "metadata": {},
   "outputs": [
    {
     "name": "stdout",
     "output_type": "stream",
     "text": [
      "[0.08365100423489412, 0.012484466431338933, 0.032472606717680666, 0.018220131217824606, 0.020810674603772852, 0.015838317356461212, 0.014926404446387563, 0.00816862904725292, 0.026250384974058676, 0.005956419141807573, 0.007745426795343125, 0.010468602269570144]\n"
     ]
    }
   ],
   "source": [
    "print(list1)"
   ]
  },
  {
   "cell_type": "code",
   "execution_count": 39,
   "id": "4b8dce33",
   "metadata": {},
   "outputs": [],
   "source": [
    "list2=[]\n",
    "for i in range(12):\n",
    "    list2.append(test_prediction[i])"
   ]
  },
  {
   "cell_type": "code",
   "execution_count": 40,
   "id": "25f60cf0",
   "metadata": {},
   "outputs": [],
   "source": [
    "list1=np.array(list1).reshape(len(list1),1)"
   ]
  },
  {
   "cell_type": "code",
   "execution_count": 41,
   "id": "18e021f7",
   "metadata": {},
   "outputs": [],
   "source": [
    "list2=np.array(list2).reshape(len(list2),1)"
   ]
  },
  {
   "cell_type": "code",
   "execution_count": 45,
   "id": "e1821af8",
   "metadata": {},
   "outputs": [],
   "source": [
    "from sklearn.metrics import mean_squared_error\n",
    "from math import sqrt"
   ]
  },
  {
   "cell_type": "code",
   "execution_count": 46,
   "id": "324e91e4",
   "metadata": {},
   "outputs": [],
   "source": [
    "rsme=sqrt(mean_squared_error(list1,list2))"
   ]
  },
  {
   "cell_type": "code",
   "execution_count": 47,
   "id": "d7f8620f",
   "metadata": {},
   "outputs": [
    {
     "name": "stdout",
     "output_type": "stream",
     "text": [
      "0.07823968131696533\n"
     ]
    }
   ],
   "source": [
    "print(rsme) ##root mean squared error"
   ]
  }
 ],
 "metadata": {
  "kernelspec": {
   "display_name": "Python 3 (ipykernel)",
   "language": "python",
   "name": "python3"
  },
  "language_info": {
   "codemirror_mode": {
    "name": "ipython",
    "version": 3
   },
   "file_extension": ".py",
   "mimetype": "text/x-python",
   "name": "python",
   "nbconvert_exporter": "python",
   "pygments_lexer": "ipython3",
   "version": "3.9.13"
  }
 },
 "nbformat": 4,
 "nbformat_minor": 5
}
