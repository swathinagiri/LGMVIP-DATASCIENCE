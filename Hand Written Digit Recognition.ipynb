{
 "cells": [
  {
   "cell_type": "code",
   "execution_count": 22,
   "id": "8fc4ac74",
   "metadata": {},
   "outputs": [],
   "source": [
    "import numpy as np\n",
    "import pandas as pd\n",
    "import matplotlib.pyplot as plt  #importing the libraries"
   ]
  },
  {
   "cell_type": "code",
   "execution_count": 23,
   "id": "25a7e89c",
   "metadata": {},
   "outputs": [],
   "source": [
    "from keras.layers import Convolution2D,MaxPooling2D,Dense,Activation,Flatten\n",
    "from keras.optimizers import Adam\n",
    "from keras.models import Sequential\n"
   ]
  },
  {
   "cell_type": "code",
   "execution_count": 24,
   "id": "00575cb7",
   "metadata": {},
   "outputs": [],
   "source": [
    "##importing the dataset from libraries\n",
    "from keras.datasets import mnist"
   ]
  },
  {
   "cell_type": "code",
   "execution_count": 25,
   "id": "2febf9ed",
   "metadata": {},
   "outputs": [],
   "source": [
    "(x_train,y_train),(x_test,y_test)=mnist.load_data()"
   ]
  },
  {
   "cell_type": "code",
   "execution_count": 26,
   "id": "8900dce1",
   "metadata": {},
   "outputs": [
    {
     "data": {
      "image/png": "[encoded data removed]",
      "text/plain": [
       "<Figure size 2000x2000 with 5 Axes>"
      ]
     },
     "metadata": {},
     "output_type": "display_data"
    }
   ],
   "source": [
    "plt.figure(figsize=(20,20))\n",
    "for i in range(0,5):\n",
    "    plt.subplot(1,5,i+1)\n",
    "    plt.imshow(x_train[i])   #data understanding\n",
    "    plt.title(y_train[i])\n",
    "plt.show()"
   ]
  },
  {
   "cell_type": "code",
   "execution_count": 27,
   "id": "87dbd5b4",
   "metadata": {},
   "outputs": [],
   "source": [
    "classifier=Sequential()   #declaring the model"
   ]
  },
  {
   "cell_type": "code",
   "execution_count": 28,
   "id": "c76619c3",
   "metadata": {},
   "outputs": [],
   "source": [
    "x_train=x_train.reshape((x_train.shape[0], 28, 28, 1))"
   ]
  },
  {
   "cell_type": "code",
   "execution_count": 29,
   "id": "93cf31a1",
   "metadata": {},
   "outputs": [],
   "source": [
    "x_test=x_test.reshape((x_test.shape[0],28,28,1))"
   ]
  },
  {
   "cell_type": "code",
   "execution_count": 30,
   "id": "e1dcd244",
   "metadata": {},
   "outputs": [],
   "source": [
    "x_train=x_train/255\n",
    "x_test=x_test/255"
   ]
  },
  {
   "cell_type": "code",
   "execution_count": 31,
   "id": "53a2819f",
   "metadata": {},
   "outputs": [],
   "source": [
    "classifier.add(Convolution2D(32,(3,3),activation='relu',input_shape=(28,28,1)))  #bu]inding the layers"
   ]
  },
  {
   "cell_type": "code",
   "execution_count": 32,
   "id": "283a5a62",
   "metadata": {},
   "outputs": [],
   "source": [
    "classifier.add(MaxPooling2D(2,2))"
   ]
  },
  {
   "cell_type": "code",
   "execution_count": 33,
   "id": "9aaa8f2f",
   "metadata": {},
   "outputs": [],
   "source": [
    "classifier.add(Flatten())"
   ]
  },
  {
   "cell_type": "code",
   "execution_count": 34,
   "id": "7a8a06cb",
   "metadata": {},
   "outputs": [],
   "source": [
    "classifier.add(Dense(100,activation='relu'))  #dense layer "
   ]
  },
  {
   "cell_type": "code",
   "execution_count": 35,
   "id": "4781957e",
   "metadata": {},
   "outputs": [],
   "source": [
    "classifier.add(Dense(10,activation='softmax'))"
   ]
  },
  {
   "cell_type": "code",
   "execution_count": 36,
   "id": "90428f0c",
   "metadata": {},
   "outputs": [],
   "source": [
    "classifier.compile(loss='sparse_categorical_crossentropy',optimizer='adam',metrics=['accuracy'])"
   ]
  },
  {
   "cell_type": "code",
   "execution_count": 37,
   "id": "5dcf48e4",
   "metadata": {},
   "outputs": [
    {
     "name": "stdout",
     "output_type": "stream",
     "text": [
      "Epoch 1/10\n",
      "1875/1875 [==============================] - 23s 12ms/step - loss: 0.1476 - accuracy: 0.9566\n",
      "Epoch 2/10\n",
      "1875/1875 [==============================] - 24s 13ms/step - loss: 0.0535 - accuracy: 0.9829\n",
      "Epoch 3/10\n",
      "1875/1875 [==============================] - 24s 13ms/step - loss: 0.0324 - accuracy: 0.9895\n",
      "Epoch 4/10\n",
      "1875/1875 [==============================] - 23s 13ms/step - loss: 0.0219 - accuracy: 0.9927\n",
      "Epoch 5/10\n",
      "1875/1875 [==============================] - 23s 12ms/step - loss: 0.0157 - accuracy: 0.9950\n",
      "Epoch 6/10\n",
      "1875/1875 [==============================] - 24s 13ms/step - loss: 0.0103 - accuracy: 0.9967\n",
      "Epoch 7/10\n",
      "1875/1875 [==============================] - 24s 13ms/step - loss: 0.0085 - accuracy: 0.9971\n",
      "Epoch 8/10\n",
      "1875/1875 [==============================] - 23s 13ms/step - loss: 0.0070 - accuracy: 0.9976\n",
      "Epoch 9/10\n",
      "1875/1875 [==============================] - 24s 13ms/step - loss: 0.0051 - accuracy: 0.9983\n",
      "Epoch 10/10\n",
      "1875/1875 [==============================] - 23s 12ms/step - loss: 0.0047 - accuracy: 0.9985\n"
     ]
    },
    {
     "data": {
      "text/plain": [
       "<keras.callbacks.History at 0x223800b0a90>"
      ]
     },
     "execution_count": 37,
     "metadata": {},
     "output_type": "execute_result"
    }
   ],
   "source": [
    "classifier.fit(x_train,y_train,epochs=10)"
   ]
  },
  {
   "cell_type": "code",
   "execution_count": 40,
   "id": "f1d64840",
   "metadata": {},
   "outputs": [
    {
     "name": "stdout",
     "output_type": "stream",
     "text": [
      "313/313 [==============================] - 1s 4ms/step - loss: 0.0719 - accuracy: 0.9850\n"
     ]
    }
   ],
   "source": [
    "score=classifier.evaluate(x_test,y_test)"
   ]
  },
  {
   "cell_type": "code",
   "execution_count": 46,
   "id": "9e331bcb",
   "metadata": {},
   "outputs": [],
   "source": [
    "score=score[1]*100"
   ]
  },
  {
   "cell_type": "code",
   "execution_count": 47,
   "id": "5acdc108",
   "metadata": {},
   "outputs": [
    {
     "name": "stdout",
     "output_type": "stream",
     "text": [
      "98.50000143051147 %\n"
     ]
    }
   ],
   "source": [
    "print(score,\"%\")   #accuracy is 98%"
   ]
  }
 ],
 "metadata": {
  "kernelspec": {
   "display_name": "Python 3 (ipykernel)",
   "language": "python",
   "name": "python3"
  },
  "language_info": {
   "codemirror_mode": {
    "name": "ipython",
    "version": 3
   },
   "file_extension": ".py",
   "mimetype": "text/x-python",
   "name": "python",
   "nbconvert_exporter": "python",
   "pygments_lexer": "ipython3",
   "version": "3.9.13"
  }
 },
 "nbformat": 4,
 "nbformat_minor": 5
}
